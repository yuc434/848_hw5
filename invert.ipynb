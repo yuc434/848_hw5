{
 "cells": [
  {
   "cell_type": "code",
   "execution_count": 1,
   "id": "4ba1ce32",
   "metadata": {},
   "outputs": [
    {
     "name": "stderr",
     "output_type": "stream",
     "text": [
      "21/12/02 04:06:55 WARN NativeCodeLoader: Unable to load native-hadoop library for your platform... using builtin-java classes where applicable\n",
      "Using Spark's default log4j profile: org/apache/spark/log4j-defaults.properties\n",
      "Setting default log level to \"WARN\".\n",
      "To adjust logging level use sc.setLogLevel(newLevel). For SparkR, use setLogLevel(newLevel).\n",
      "21/12/02 04:06:56 WARN Utils: Service 'SparkUI' could not bind on port 4040. Attempting port 4041.\n"
     ]
    }
   ],
   "source": [
    "from pyspark import SparkContext,SparkConf\n",
    "\n",
    "stopWords = ['they', 'she', 'he', 'it', 'the', 'as', 'is', 'and']\n",
    "\n",
    "conf = SparkConf ()\n",
    "sc = SparkContext.getOrCreate(conf = conf)"
   ]
  },
  {
   "cell_type": "code",
   "execution_count": 2,
   "id": "269a9905",
   "metadata": {},
   "outputs": [],
   "source": [
    "# read\n",
    "rdd = sc.wholeTextFiles(\"./data/*/*\")\n",
    "# filter stop words\n",
    "rdd = rdd.flatMap(lambda x: [(x[0], word) for word in x[1].lower().split(\" \")]).filter(lambda x: x[1] not in stopWords)\n",
    "# change the order\n",
    "rdd = rdd.map(lambda x: (x[1], x[0]))"
   ]
  },
  {
   "cell_type": "code",
   "execution_count": 3,
   "id": "14788c4e",
   "metadata": {
    "scrolled": true
   },
   "outputs": [
    {
     "name": "stderr",
     "output_type": "stream",
     "text": [
      "                                                                                \r"
     ]
    },
    {
     "data": {
      "text/plain": [
       "[('project', 'file:/notebooks/data/Hugo/Miserables.txt'),\n",
       " ('gutenberg', 'file:/notebooks/data/Hugo/Miserables.txt'),\n",
       " ('ebook', 'file:/notebooks/data/Hugo/Miserables.txt'),\n",
       " ('of', 'file:/notebooks/data/Hugo/Miserables.txt'),\n",
       " ('les', 'file:/notebooks/data/Hugo/Miserables.txt'),\n",
       " ('miserables,', 'file:/notebooks/data/Hugo/Miserables.txt'),\n",
       " ('by', 'file:/notebooks/data/Hugo/Miserables.txt'),\n",
       " ('victor', 'file:/notebooks/data/Hugo/Miserables.txt')]"
      ]
     },
     "execution_count": 3,
     "metadata": {},
     "output_type": "execute_result"
    }
   ],
   "source": [
    "rdd.take(8)"
   ]
  },
  {
   "cell_type": "code",
   "execution_count": 4,
   "id": "7a21c9ec",
   "metadata": {},
   "outputs": [],
   "source": [
    "# add count and reduce\n",
    "rdd = rdd.map(lambda x: (x, 1)).reduceByKey(lambda a, b: a + b)\n",
    "# change the order\n",
    "rdd = rdd.map(lambda x : (x[0][0], [(x[0][1], x[1])])).reduceByKey(lambda a, b: a + b)\n",
    "\n"
   ]
  },
  {
   "cell_type": "code",
   "execution_count": 5,
   "id": "940d5d6a",
   "metadata": {},
   "outputs": [
    {
     "name": "stderr",
     "output_type": "stream",
     "text": [
      "                                                                                \r"
     ]
    },
    {
     "data": {
      "text/plain": [
       "[('project',\n",
       "  [('file:/notebooks/data/Hugo/Miserables.txt', 67),\n",
       "   ('file:/notebooks/data/Hugo/NotreDame_De_Paris.txt', 66),\n",
       "   ('file:/notebooks/data/shakespeare/comedies/allswellthatendswell', 1),\n",
       "   ('file:/notebooks/data/shakespeare/histories/2kinghenryiv', 1),\n",
       "   ('file:/notebooks/data/Tolstoy/anna_karenhina.txt', 65),\n",
       "   ('file:/notebooks/data/Tolstoy/war_and_peace.txt', 69),\n",
       "   ('file:/notebooks/data/shakespeare/comedies/muchadoaboutnothing', 1),\n",
       "   ('file:/notebooks/data/shakespeare/comedies/tempest', 3),\n",
       "   ('file:/notebooks/data/shakespeare/tragedies/antonyandcleopatra', 1)])]"
      ]
     },
     "execution_count": 5,
     "metadata": {},
     "output_type": "execute_result"
    }
   ],
   "source": [
    "rdd.take(1)"
   ]
  },
  {
   "cell_type": "code",
   "execution_count": 6,
   "id": "912fca23",
   "metadata": {},
   "outputs": [
    {
     "name": "stderr",
     "output_type": "stream",
     "text": [
      "                                                                                \r"
     ]
    }
   ],
   "source": [
    "rdd.saveAsTextFile(\"output\")"
   ]
  },
  {
   "cell_type": "code",
   "execution_count": null,
   "id": "bba4355c",
   "metadata": {},
   "outputs": [],
   "source": []
  }
 ],
 "metadata": {
  "kernelspec": {
   "display_name": "Python 3 (ipykernel)",
   "language": "python",
   "name": "python3"
  },
  "language_info": {
   "codemirror_mode": {
    "name": "ipython",
    "version": 3
   },
   "file_extension": ".py",
   "mimetype": "text/x-python",
   "name": "python",
   "nbconvert_exporter": "python",
   "pygments_lexer": "ipython3",
   "version": "3.9.7"
  }
 },
 "nbformat": 4,
 "nbformat_minor": 5
}
